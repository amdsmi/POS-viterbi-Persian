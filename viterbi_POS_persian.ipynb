{
  "cells": [
    {
      "cell_type": "code",
      "execution_count": null,
      "metadata": {
        "id": "KOlENimsW-KC"
      },
      "outputs": [],
      "source": [
        "import numpy as np\n",
        "import pandas as pd\n",
        "import requests\n",
        "import matplotlib.pyplot as plt\n",
        "import seaborn as sns\n",
        "import pprint, time\n",
        "import random\n",
        "from sklearn.model_selection import train_test_split\n",
        "from nltk.tokenize import word_tokenize\n",
        "import codecs"
      ]
    },
    {
      "cell_type": "code",
      "execution_count": null,
      "metadata": {
        "id": "Py32fn4JXBB4"
      },
      "outputs": [],
      "source": [
        "def provide_data(path):\n",
        "    file1 = open(path, 'r')\n",
        "    Lines = file1.read()\n",
        "    data=Lines.splitlines()\n",
        "    pairs = [tuple(line.split(' ')) for line in data]\n",
        "    i=0\n",
        "\n",
        "    sent=[]\n",
        "    while i < len(pairs):\n",
        "        a=[]\n",
        "        while pairs[i] != ('',):\n",
        "            a.append(pairs[i])\n",
        "            i+=1\n",
        "            if i==len(pairs):\n",
        "                break\n",
        "        sent.append(a)\n",
        "        i+=1\n",
        "    print('you have {} sent'.format(len(sent)))\n",
        "    return sent\n",
        "\n"
      ]
    },
    {
      "cell_type": "code",
      "execution_count": null,
      "metadata": {
        "colab": {
          "base_uri": "https://localhost:8080/"
        },
        "id": "dR27y00QDPjx",
        "outputId": "5b724ccc-6a6b-4a1c-d7e2-2d19c5a0bfb1"
      },
      "outputs": [
        {
          "name": "stdout",
          "output_type": "stream",
          "text": [
            "you have 9280 sent\n",
            "you have 8722 sent\n"
          ]
        },
        {
          "data": {
            "text/plain": [
              "18001"
            ]
          },
          "execution_count": 3,
          "metadata": {
            "tags": []
          },
          "output_type": "execute_result"
        }
      ],
      "source": [
        "path1='/content/drive/MyDrive/4_5861494894240992261.txt'\n",
        "path2='/content/drive/MyDrive/4_5861494894240992262.txt'\n",
        "train1=provide_data(path1)\n",
        "train2=provide_data(path2)\n",
        "train=train1+train2[1:]\n",
        "len(train)"
      ]
    },
    {
      "cell_type": "code",
      "execution_count": null,
      "metadata": {
        "colab": {
          "base_uri": "https://localhost:8080/"
        },
        "id": "f4Gfx6AgZMtd",
        "outputId": "bebcc0e6-ecd0-40b3-c655-a6e05184eed9"
      },
      "outputs": [
        {
          "name": "stdout",
          "output_type": "stream",
          "text": [
            "14400 3601\n"
          ]
        }
      ],
      "source": [
        "train_set,test_set =train_test_split(train,train_size=0.80,test_size=0.20,random_state = 101)\n",
        "print(len(train_set),len(test_set))"
      ]
    },
    {
      "cell_type": "code",
      "execution_count": null,
      "metadata": {
        "colab": {
          "base_uri": "https://localhost:8080/"
        },
        "id": "YBYITj-l7sC9",
        "outputId": "dd483263-afcb-463f-d870-2236025899fe"
      },
      "outputs": [
        {
          "data": {
            "text/plain": [
              "415684"
            ]
          },
          "execution_count": 5,
          "metadata": {
            "tags": []
          },
          "output_type": "execute_result"
        }
      ],
      "source": [
        "# Getting list of tagged words in training set\n",
        "train_tagged_words = [tup for sent in train_set for tup in sent]\n",
        "\n",
        "# Get length of total tagged words in training set\n",
        "len(train_tagged_words)"
      ]
    },
    {
      "cell_type": "code",
      "execution_count": null,
      "metadata": {
        "colab": {
          "base_uri": "https://localhost:8080/"
        },
        "id": "0udZlFyA7283",
        "outputId": "268de17d-bd16-4791-db8e-eee8d2503714"
      },
      "outputs": [
        {
          "data": {
            "text/plain": [
              "['بچههاي', 'خارجي', 'همزمان', 'و', 'در', 'يك', 'زمان', 'زبان', 'هلندي', 'را']"
            ]
          },
          "execution_count": 6,
          "metadata": {
            "tags": []
          },
          "output_type": "execute_result"
        }
      ],
      "source": [
        "# tokens\n",
        "tokens = [pair[0] for pair in train_tagged_words]\n",
        "tokens[:10]\n"
      ]
    },
    {
      "cell_type": "code",
      "execution_count": null,
      "metadata": {
        "colab": {
          "base_uri": "https://localhost:8080/"
        },
        "id": "FBx8wGgB74cz",
        "outputId": "c60fba4c-0196-40ec-9a0e-5a5bcb92a231"
      },
      "outputs": [
        {
          "name": "stdout",
          "output_type": "stream",
          "text": [
            "27147\n"
          ]
        }
      ],
      "source": [
        "# vocabulary\n",
        "V = set(tokens)\n",
        "print(len(V))"
      ]
    },
    {
      "cell_type": "code",
      "execution_count": null,
      "metadata": {
        "colab": {
          "base_uri": "https://localhost:8080/"
        },
        "id": "LMEOh_i278mi",
        "outputId": "5e395df9-9f7a-4b07-8d1b-914171d2ae03"
      },
      "outputs": [
        {
          "name": "stdout",
          "output_type": "stream",
          "text": [
            "23\n",
            "{'PS', 'NP', 'PP', 'DEFAULT', 'CON', 'P', 'PRO', 'MS', 'V', 'DELM', 'AR', 'QUA', 'MQUA', 'MORP', 'IF', 'SPEC', 'ADV', 'ADJ', 'N', 'OHH', 'DET', 'OH', 'INT'}\n"
          ]
        }
      ],
      "source": [
        "# number of pos tags in the training corpus\n",
        "T = set([pair[1] for pair in train_tagged_words])\n",
        "print(len(T))\n",
        "print(T)"
      ]
    },
    {
      "cell_type": "code",
      "execution_count": null,
      "metadata": {
        "id": "qBKLWHX48CxK"
      },
      "outputs": [],
      "source": [
        "# Create numpy array of no of pos tags by total vocabulary\n",
        "t = len(T)\n",
        "v = len(V)\n",
        "w_given_t = np.zeros((t, v))"
      ]
    },
    {
      "cell_type": "code",
      "execution_count": null,
      "metadata": {
        "id": "Jb0RdFW68Ofc"
      },
      "outputs": [],
      "source": [
        "# compute word given tag: Emission Probability\n",
        "def word_given_tag(word, tag, train_bag = train_tagged_words):\n",
        "    tag_list = [pair for pair in train_bag if pair[1]==tag]\n",
        "    count_tag = len(tag_list)\n",
        "    w_given_tag_list = [pair[0] for pair in tag_list if pair[0]==word]\n",
        "    count_w_given_tag = len(w_given_tag_list)\n",
        "\n",
        "    return (count_w_given_tag, count_tag)"
      ]
    },
    {
      "cell_type": "code",
      "execution_count": null,
      "metadata": {
        "id": "aDBqfjqm8Tcq"
      },
      "outputs": [],
      "source": [
        "# compute tag given tag: tag2(t2) given tag1 (t1), i.e. Transition Probability\n",
        "\n",
        "def t2_given_t1(t2, t1, train_bag = train_tagged_words):\n",
        "    tags = [pair[1] for pair in train_bag]\n",
        "    count_t1 = len([t for t in tags if t==t1])\n",
        "    count_t2_t1 = 0\n",
        "    for index in range(len(tags)-1):\n",
        "        if tags[index]==t1 and tags[index+1] == t2:\n",
        "            count_t2_t1 += 1\n",
        "    return (count_t2_t1, count_t1)"
      ]
    },
    {
      "cell_type": "code",
      "execution_count": null,
      "metadata": {
        "id": "Ht25IpuDAJQ6"
      },
      "outputs": [],
      "source": [
        "# creating t x t (pos tags x pos tags)transition matrix of tags\n",
        "# each column is t2, each row is t1\n",
        "# thus M(i, j) represents P(tj given ti)\n",
        "\n",
        "tags_matrix = np.zeros((len(T), len(T)), dtype='float32')\n",
        "for i, t1 in enumerate(list(T)):\n",
        "    for j, t2 in enumerate(list(T)):\n",
        "        tags_matrix[i, j] = t2_given_t1(t2, t1)[0]/t2_given_t1(t2, t1)[1]"
      ]
    },
    {
      "cell_type": "code",
      "execution_count": null,
      "metadata": {
        "colab": {
          "base_uri": "https://localhost:8080/",
          "height": 748
        },
        "id": "Igd9KjPSAcLP",
        "outputId": "7717cb65-0ae7-4e69-92f4-e6e446206313"
      },
      "outputs": [
        {
          "data": {
            "text/html": [
              "<div>\n",
              "<style scoped>\n",
              "    .dataframe tbody tr th:only-of-type {\n",
              "        vertical-align: middle;\n",
              "    }\n",
              "\n",
              "    .dataframe tbody tr th {\n",
              "        vertical-align: top;\n",
              "    }\n",
              "\n",
              "    .dataframe thead th {\n",
              "        text-align: right;\n",
              "    }\n",
              "</style>\n",
              "<table border=\"1\" class=\"dataframe\">\n",
              "  <thead>\n",
              "    <tr style=\"text-align: right;\">\n",
              "      <th></th>\n",
              "      <th>PS</th>\n",
              "      <th>NP</th>\n",
              "      <th>PP</th>\n",
              "      <th>DEFAULT</th>\n",
              "      <th>CON</th>\n",
              "      <th>P</th>\n",
              "      <th>PRO</th>\n",
              "      <th>MS</th>\n",
              "      <th>V</th>\n",
              "      <th>DELM</th>\n",
              "      <th>AR</th>\n",
              "      <th>QUA</th>\n",
              "      <th>MQUA</th>\n",
              "      <th>MORP</th>\n",
              "      <th>IF</th>\n",
              "      <th>SPEC</th>\n",
              "      <th>ADV</th>\n",
              "      <th>ADJ</th>\n",
              "      <th>N</th>\n",
              "      <th>OHH</th>\n",
              "      <th>DET</th>\n",
              "      <th>OH</th>\n",
              "      <th>INT</th>\n",
              "    </tr>\n",
              "  </thead>\n",
              "  <tbody>\n",
              "    <tr>\n",
              "      <th>PS</th>\n",
              "      <td>0.000000</td>\n",
              "      <td>0.000000</td>\n",
              "      <td>0.000000</td>\n",
              "      <td>0.000000</td>\n",
              "      <td>0.060606</td>\n",
              "      <td>0.303030</td>\n",
              "      <td>0.000000</td>\n",
              "      <td>0.000000</td>\n",
              "      <td>0.000000</td>\n",
              "      <td>0.575758</td>\n",
              "      <td>0.000000</td>\n",
              "      <td>0.000000</td>\n",
              "      <td>0.000000</td>\n",
              "      <td>0.000000</td>\n",
              "      <td>0.000000</td>\n",
              "      <td>0.000000</td>\n",
              "      <td>0.000000</td>\n",
              "      <td>0.000000</td>\n",
              "      <td>0.030303</td>\n",
              "      <td>0.000000</td>\n",
              "      <td>0.000000</td>\n",
              "      <td>0.030303</td>\n",
              "      <td>0.000000</td>\n",
              "    </tr>\n",
              "    <tr>\n",
              "      <th>NP</th>\n",
              "      <td>0.000000</td>\n",
              "      <td>0.000000</td>\n",
              "      <td>0.000000</td>\n",
              "      <td>0.000000</td>\n",
              "      <td>0.285714</td>\n",
              "      <td>0.142857</td>\n",
              "      <td>0.000000</td>\n",
              "      <td>0.000000</td>\n",
              "      <td>0.142857</td>\n",
              "      <td>0.000000</td>\n",
              "      <td>0.000000</td>\n",
              "      <td>0.000000</td>\n",
              "      <td>0.000000</td>\n",
              "      <td>0.000000</td>\n",
              "      <td>0.000000</td>\n",
              "      <td>0.000000</td>\n",
              "      <td>0.000000</td>\n",
              "      <td>0.142857</td>\n",
              "      <td>0.285714</td>\n",
              "      <td>0.000000</td>\n",
              "      <td>0.000000</td>\n",
              "      <td>0.000000</td>\n",
              "      <td>0.000000</td>\n",
              "    </tr>\n",
              "    <tr>\n",
              "      <th>PP</th>\n",
              "      <td>0.000000</td>\n",
              "      <td>0.000000</td>\n",
              "      <td>0.000000</td>\n",
              "      <td>0.000000</td>\n",
              "      <td>0.000000</td>\n",
              "      <td>0.008929</td>\n",
              "      <td>0.026786</td>\n",
              "      <td>0.000000</td>\n",
              "      <td>0.142857</td>\n",
              "      <td>0.000000</td>\n",
              "      <td>0.000000</td>\n",
              "      <td>0.044643</td>\n",
              "      <td>0.000000</td>\n",
              "      <td>0.017857</td>\n",
              "      <td>0.000000</td>\n",
              "      <td>0.000000</td>\n",
              "      <td>0.000000</td>\n",
              "      <td>0.080357</td>\n",
              "      <td>0.678571</td>\n",
              "      <td>0.000000</td>\n",
              "      <td>0.000000</td>\n",
              "      <td>0.000000</td>\n",
              "      <td>0.000000</td>\n",
              "    </tr>\n",
              "    <tr>\n",
              "      <th>DEFAULT</th>\n",
              "      <td>0.000000</td>\n",
              "      <td>0.000000</td>\n",
              "      <td>0.000000</td>\n",
              "      <td>0.000000</td>\n",
              "      <td>0.060606</td>\n",
              "      <td>0.060606</td>\n",
              "      <td>0.060606</td>\n",
              "      <td>0.000000</td>\n",
              "      <td>0.000000</td>\n",
              "      <td>0.060606</td>\n",
              "      <td>0.000000</td>\n",
              "      <td>0.000000</td>\n",
              "      <td>0.000000</td>\n",
              "      <td>0.000000</td>\n",
              "      <td>0.000000</td>\n",
              "      <td>0.000000</td>\n",
              "      <td>0.030303</td>\n",
              "      <td>0.000000</td>\n",
              "      <td>0.696970</td>\n",
              "      <td>0.000000</td>\n",
              "      <td>0.030303</td>\n",
              "      <td>0.000000</td>\n",
              "      <td>0.000000</td>\n",
              "    </tr>\n",
              "    <tr>\n",
              "      <th>CON</th>\n",
              "      <td>0.000087</td>\n",
              "      <td>0.000029</td>\n",
              "      <td>0.000378</td>\n",
              "      <td>0.000000</td>\n",
              "      <td>0.036029</td>\n",
              "      <td>0.187218</td>\n",
              "      <td>0.021449</td>\n",
              "      <td>0.000320</td>\n",
              "      <td>0.020721</td>\n",
              "      <td>0.010652</td>\n",
              "      <td>0.000175</td>\n",
              "      <td>0.014901</td>\n",
              "      <td>0.000669</td>\n",
              "      <td>0.000029</td>\n",
              "      <td>0.004162</td>\n",
              "      <td>0.001426</td>\n",
              "      <td>0.035622</td>\n",
              "      <td>0.104479</td>\n",
              "      <td>0.542737</td>\n",
              "      <td>0.000029</td>\n",
              "      <td>0.018829</td>\n",
              "      <td>0.000058</td>\n",
              "      <td>0.000000</td>\n",
              "    </tr>\n",
              "    <tr>\n",
              "      <th>P</th>\n",
              "      <td>0.000000</td>\n",
              "      <td>0.000118</td>\n",
              "      <td>0.000059</td>\n",
              "      <td>0.000000</td>\n",
              "      <td>0.005410</td>\n",
              "      <td>0.042096</td>\n",
              "      <td>0.038542</td>\n",
              "      <td>0.000513</td>\n",
              "      <td>0.012143</td>\n",
              "      <td>0.007404</td>\n",
              "      <td>0.000039</td>\n",
              "      <td>0.015401</td>\n",
              "      <td>0.000020</td>\n",
              "      <td>0.000020</td>\n",
              "      <td>0.000020</td>\n",
              "      <td>0.001955</td>\n",
              "      <td>0.004995</td>\n",
              "      <td>0.022845</td>\n",
              "      <td>0.802354</td>\n",
              "      <td>0.000000</td>\n",
              "      <td>0.046065</td>\n",
              "      <td>0.000000</td>\n",
              "      <td>0.000000</td>\n",
              "    </tr>\n",
              "    <tr>\n",
              "      <th>PRO</th>\n",
              "      <td>0.000000</td>\n",
              "      <td>0.000000</td>\n",
              "      <td>0.001716</td>\n",
              "      <td>0.000000</td>\n",
              "      <td>0.082506</td>\n",
              "      <td>0.339953</td>\n",
              "      <td>0.011156</td>\n",
              "      <td>0.000000</td>\n",
              "      <td>0.133382</td>\n",
              "      <td>0.033346</td>\n",
              "      <td>0.000123</td>\n",
              "      <td>0.004536</td>\n",
              "      <td>0.000368</td>\n",
              "      <td>0.000000</td>\n",
              "      <td>0.000245</td>\n",
              "      <td>0.000613</td>\n",
              "      <td>0.023783</td>\n",
              "      <td>0.099179</td>\n",
              "      <td>0.262842</td>\n",
              "      <td>0.000000</td>\n",
              "      <td>0.006252</td>\n",
              "      <td>0.000000</td>\n",
              "      <td>0.000000</td>\n",
              "    </tr>\n",
              "    <tr>\n",
              "      <th>MS</th>\n",
              "      <td>0.000000</td>\n",
              "      <td>0.000000</td>\n",
              "      <td>0.000000</td>\n",
              "      <td>0.000000</td>\n",
              "      <td>0.077670</td>\n",
              "      <td>0.092233</td>\n",
              "      <td>0.000000</td>\n",
              "      <td>0.000000</td>\n",
              "      <td>0.072816</td>\n",
              "      <td>0.286408</td>\n",
              "      <td>0.000000</td>\n",
              "      <td>0.000000</td>\n",
              "      <td>0.000000</td>\n",
              "      <td>0.000000</td>\n",
              "      <td>0.000000</td>\n",
              "      <td>0.000000</td>\n",
              "      <td>0.004854</td>\n",
              "      <td>0.121359</td>\n",
              "      <td>0.344660</td>\n",
              "      <td>0.000000</td>\n",
              "      <td>0.000000</td>\n",
              "      <td>0.000000</td>\n",
              "      <td>0.000000</td>\n",
              "    </tr>\n",
              "    <tr>\n",
              "      <th>V</th>\n",
              "      <td>0.000030</td>\n",
              "      <td>0.000000</td>\n",
              "      <td>0.000213</td>\n",
              "      <td>0.000030</td>\n",
              "      <td>0.276757</td>\n",
              "      <td>0.068596</td>\n",
              "      <td>0.004683</td>\n",
              "      <td>0.000030</td>\n",
              "      <td>0.031987</td>\n",
              "      <td>0.534025</td>\n",
              "      <td>0.000213</td>\n",
              "      <td>0.002220</td>\n",
              "      <td>0.000061</td>\n",
              "      <td>0.000000</td>\n",
              "      <td>0.000699</td>\n",
              "      <td>0.000213</td>\n",
              "      <td>0.008483</td>\n",
              "      <td>0.011037</td>\n",
              "      <td>0.056981</td>\n",
              "      <td>0.000030</td>\n",
              "      <td>0.003649</td>\n",
              "      <td>0.000061</td>\n",
              "      <td>0.000000</td>\n",
              "    </tr>\n",
              "    <tr>\n",
              "      <th>DELM</th>\n",
              "      <td>0.000650</td>\n",
              "      <td>0.000000</td>\n",
              "      <td>0.000488</td>\n",
              "      <td>0.000488</td>\n",
              "      <td>0.076210</td>\n",
              "      <td>0.116963</td>\n",
              "      <td>0.017787</td>\n",
              "      <td>0.001416</td>\n",
              "      <td>0.013027</td>\n",
              "      <td>0.068199</td>\n",
              "      <td>0.003831</td>\n",
              "      <td>0.007802</td>\n",
              "      <td>0.000279</td>\n",
              "      <td>0.000023</td>\n",
              "      <td>0.004760</td>\n",
              "      <td>0.000790</td>\n",
              "      <td>0.024869</td>\n",
              "      <td>0.041542</td>\n",
              "      <td>0.593382</td>\n",
              "      <td>0.000070</td>\n",
              "      <td>0.027029</td>\n",
              "      <td>0.000232</td>\n",
              "      <td>0.000139</td>\n",
              "    </tr>\n",
              "    <tr>\n",
              "      <th>AR</th>\n",
              "      <td>0.001104</td>\n",
              "      <td>0.000000</td>\n",
              "      <td>0.000000</td>\n",
              "      <td>0.000000</td>\n",
              "      <td>0.012141</td>\n",
              "      <td>0.001104</td>\n",
              "      <td>0.001104</td>\n",
              "      <td>0.000000</td>\n",
              "      <td>0.002208</td>\n",
              "      <td>0.188742</td>\n",
              "      <td>0.784768</td>\n",
              "      <td>0.000000</td>\n",
              "      <td>0.000000</td>\n",
              "      <td>0.000000</td>\n",
              "      <td>0.000000</td>\n",
              "      <td>0.000000</td>\n",
              "      <td>0.000000</td>\n",
              "      <td>0.002208</td>\n",
              "      <td>0.006623</td>\n",
              "      <td>0.000000</td>\n",
              "      <td>0.000000</td>\n",
              "      <td>0.000000</td>\n",
              "      <td>0.000000</td>\n",
              "    </tr>\n",
              "    <tr>\n",
              "      <th>QUA</th>\n",
              "      <td>0.000000</td>\n",
              "      <td>0.000000</td>\n",
              "      <td>0.000000</td>\n",
              "      <td>0.000000</td>\n",
              "      <td>0.000000</td>\n",
              "      <td>0.128067</td>\n",
              "      <td>0.016488</td>\n",
              "      <td>0.000000</td>\n",
              "      <td>0.000767</td>\n",
              "      <td>0.000383</td>\n",
              "      <td>0.000000</td>\n",
              "      <td>0.000383</td>\n",
              "      <td>0.000000</td>\n",
              "      <td>0.000383</td>\n",
              "      <td>0.000000</td>\n",
              "      <td>0.028374</td>\n",
              "      <td>0.000767</td>\n",
              "      <td>0.006902</td>\n",
              "      <td>0.800997</td>\n",
              "      <td>0.000000</td>\n",
              "      <td>0.016488</td>\n",
              "      <td>0.000000</td>\n",
              "      <td>0.000000</td>\n",
              "    </tr>\n",
              "    <tr>\n",
              "      <th>MQUA</th>\n",
              "      <td>0.000000</td>\n",
              "      <td>0.000000</td>\n",
              "      <td>0.000000</td>\n",
              "      <td>0.000000</td>\n",
              "      <td>0.011111</td>\n",
              "      <td>0.077778</td>\n",
              "      <td>0.011111</td>\n",
              "      <td>0.011111</td>\n",
              "      <td>0.000000</td>\n",
              "      <td>0.000000</td>\n",
              "      <td>0.000000</td>\n",
              "      <td>0.077778</td>\n",
              "      <td>0.000000</td>\n",
              "      <td>0.000000</td>\n",
              "      <td>0.000000</td>\n",
              "      <td>0.000000</td>\n",
              "      <td>0.000000</td>\n",
              "      <td>0.000000</td>\n",
              "      <td>0.811111</td>\n",
              "      <td>0.000000</td>\n",
              "      <td>0.000000</td>\n",
              "      <td>0.000000</td>\n",
              "      <td>0.000000</td>\n",
              "    </tr>\n",
              "    <tr>\n",
              "      <th>MORP</th>\n",
              "      <td>0.000000</td>\n",
              "      <td>0.000000</td>\n",
              "      <td>0.000000</td>\n",
              "      <td>0.000000</td>\n",
              "      <td>0.093617</td>\n",
              "      <td>0.234043</td>\n",
              "      <td>0.000000</td>\n",
              "      <td>0.000000</td>\n",
              "      <td>0.063830</td>\n",
              "      <td>0.076596</td>\n",
              "      <td>0.000000</td>\n",
              "      <td>0.004255</td>\n",
              "      <td>0.000000</td>\n",
              "      <td>0.000000</td>\n",
              "      <td>0.000000</td>\n",
              "      <td>0.000000</td>\n",
              "      <td>0.012766</td>\n",
              "      <td>0.038298</td>\n",
              "      <td>0.476596</td>\n",
              "      <td>0.000000</td>\n",
              "      <td>0.000000</td>\n",
              "      <td>0.000000</td>\n",
              "      <td>0.000000</td>\n",
              "    </tr>\n",
              "    <tr>\n",
              "      <th>IF</th>\n",
              "      <td>0.000000</td>\n",
              "      <td>0.000000</td>\n",
              "      <td>0.000000</td>\n",
              "      <td>0.000000</td>\n",
              "      <td>0.009302</td>\n",
              "      <td>0.158140</td>\n",
              "      <td>0.025581</td>\n",
              "      <td>0.004651</td>\n",
              "      <td>0.058140</td>\n",
              "      <td>0.004651</td>\n",
              "      <td>0.000000</td>\n",
              "      <td>0.025581</td>\n",
              "      <td>0.000000</td>\n",
              "      <td>0.000000</td>\n",
              "      <td>0.000000</td>\n",
              "      <td>0.000000</td>\n",
              "      <td>0.020930</td>\n",
              "      <td>0.058140</td>\n",
              "      <td>0.588372</td>\n",
              "      <td>0.000000</td>\n",
              "      <td>0.046512</td>\n",
              "      <td>0.000000</td>\n",
              "      <td>0.000000</td>\n",
              "    </tr>\n",
              "    <tr>\n",
              "      <th>SPEC</th>\n",
              "      <td>0.000000</td>\n",
              "      <td>0.000000</td>\n",
              "      <td>0.000000</td>\n",
              "      <td>0.000000</td>\n",
              "      <td>0.000000</td>\n",
              "      <td>0.028428</td>\n",
              "      <td>0.001672</td>\n",
              "      <td>0.003344</td>\n",
              "      <td>0.003344</td>\n",
              "      <td>0.001672</td>\n",
              "      <td>0.000000</td>\n",
              "      <td>0.000000</td>\n",
              "      <td>0.000000</td>\n",
              "      <td>0.000000</td>\n",
              "      <td>0.000000</td>\n",
              "      <td>0.003344</td>\n",
              "      <td>0.000000</td>\n",
              "      <td>0.018395</td>\n",
              "      <td>0.938127</td>\n",
              "      <td>0.000000</td>\n",
              "      <td>0.001672</td>\n",
              "      <td>0.000000</td>\n",
              "      <td>0.000000</td>\n",
              "    </tr>\n",
              "    <tr>\n",
              "      <th>ADV</th>\n",
              "      <td>0.000000</td>\n",
              "      <td>0.000000</td>\n",
              "      <td>0.000187</td>\n",
              "      <td>0.000000</td>\n",
              "      <td>0.026311</td>\n",
              "      <td>0.228774</td>\n",
              "      <td>0.020340</td>\n",
              "      <td>0.000373</td>\n",
              "      <td>0.054488</td>\n",
              "      <td>0.031536</td>\n",
              "      <td>0.000000</td>\n",
              "      <td>0.008584</td>\n",
              "      <td>0.000373</td>\n",
              "      <td>0.000000</td>\n",
              "      <td>0.003172</td>\n",
              "      <td>0.000560</td>\n",
              "      <td>0.019407</td>\n",
              "      <td>0.198358</td>\n",
              "      <td>0.387572</td>\n",
              "      <td>0.000000</td>\n",
              "      <td>0.019780</td>\n",
              "      <td>0.000187</td>\n",
              "      <td>0.000000</td>\n",
              "    </tr>\n",
              "    <tr>\n",
              "      <th>ADJ</th>\n",
              "      <td>0.000000</td>\n",
              "      <td>0.000000</td>\n",
              "      <td>0.000221</td>\n",
              "      <td>0.000040</td>\n",
              "      <td>0.119451</td>\n",
              "      <td>0.180515</td>\n",
              "      <td>0.018060</td>\n",
              "      <td>0.000060</td>\n",
              "      <td>0.222332</td>\n",
              "      <td>0.080976</td>\n",
              "      <td>0.000020</td>\n",
              "      <td>0.002738</td>\n",
              "      <td>0.000201</td>\n",
              "      <td>0.000201</td>\n",
              "      <td>0.000262</td>\n",
              "      <td>0.000503</td>\n",
              "      <td>0.011919</td>\n",
              "      <td>0.094284</td>\n",
              "      <td>0.260182</td>\n",
              "      <td>0.000000</td>\n",
              "      <td>0.008033</td>\n",
              "      <td>0.000000</td>\n",
              "      <td>0.000000</td>\n",
              "    </tr>\n",
              "    <tr>\n",
              "      <th>N</th>\n",
              "      <td>0.000000</td>\n",
              "      <td>0.000000</td>\n",
              "      <td>0.000195</td>\n",
              "      <td>0.000050</td>\n",
              "      <td>0.075668</td>\n",
              "      <td>0.118374</td>\n",
              "      <td>0.018796</td>\n",
              "      <td>0.000539</td>\n",
              "      <td>0.096821</td>\n",
              "      <td>0.094936</td>\n",
              "      <td>0.000072</td>\n",
              "      <td>0.003664</td>\n",
              "      <td>0.000206</td>\n",
              "      <td>0.001217</td>\n",
              "      <td>0.000145</td>\n",
              "      <td>0.001023</td>\n",
              "      <td>0.009034</td>\n",
              "      <td>0.200674</td>\n",
              "      <td>0.370310</td>\n",
              "      <td>0.000000</td>\n",
              "      <td>0.008261</td>\n",
              "      <td>0.000017</td>\n",
              "      <td>0.000000</td>\n",
              "    </tr>\n",
              "    <tr>\n",
              "      <th>OHH</th>\n",
              "      <td>0.000000</td>\n",
              "      <td>0.000000</td>\n",
              "      <td>0.000000</td>\n",
              "      <td>0.000000</td>\n",
              "      <td>0.000000</td>\n",
              "      <td>0.000000</td>\n",
              "      <td>0.600000</td>\n",
              "      <td>0.000000</td>\n",
              "      <td>0.000000</td>\n",
              "      <td>0.200000</td>\n",
              "      <td>0.000000</td>\n",
              "      <td>0.000000</td>\n",
              "      <td>0.000000</td>\n",
              "      <td>0.000000</td>\n",
              "      <td>0.000000</td>\n",
              "      <td>0.000000</td>\n",
              "      <td>0.000000</td>\n",
              "      <td>0.000000</td>\n",
              "      <td>0.200000</td>\n",
              "      <td>0.000000</td>\n",
              "      <td>0.000000</td>\n",
              "      <td>0.000000</td>\n",
              "      <td>0.000000</td>\n",
              "    </tr>\n",
              "    <tr>\n",
              "      <th>DET</th>\n",
              "      <td>0.000000</td>\n",
              "      <td>0.000000</td>\n",
              "      <td>0.001099</td>\n",
              "      <td>0.000000</td>\n",
              "      <td>0.007376</td>\n",
              "      <td>0.002354</td>\n",
              "      <td>0.000785</td>\n",
              "      <td>0.000000</td>\n",
              "      <td>0.004865</td>\n",
              "      <td>0.000471</td>\n",
              "      <td>0.000000</td>\n",
              "      <td>0.000628</td>\n",
              "      <td>0.000000</td>\n",
              "      <td>0.000000</td>\n",
              "      <td>0.000000</td>\n",
              "      <td>0.018205</td>\n",
              "      <td>0.000157</td>\n",
              "      <td>0.002825</td>\n",
              "      <td>0.961080</td>\n",
              "      <td>0.000000</td>\n",
              "      <td>0.000157</td>\n",
              "      <td>0.000000</td>\n",
              "      <td>0.000000</td>\n",
              "    </tr>\n",
              "    <tr>\n",
              "      <th>OH</th>\n",
              "      <td>0.000000</td>\n",
              "      <td>0.000000</td>\n",
              "      <td>0.000000</td>\n",
              "      <td>0.000000</td>\n",
              "      <td>0.000000</td>\n",
              "      <td>0.000000</td>\n",
              "      <td>0.000000</td>\n",
              "      <td>0.000000</td>\n",
              "      <td>0.000000</td>\n",
              "      <td>0.052632</td>\n",
              "      <td>0.000000</td>\n",
              "      <td>0.000000</td>\n",
              "      <td>0.000000</td>\n",
              "      <td>0.000000</td>\n",
              "      <td>0.000000</td>\n",
              "      <td>0.000000</td>\n",
              "      <td>0.000000</td>\n",
              "      <td>0.000000</td>\n",
              "      <td>0.947368</td>\n",
              "      <td>0.000000</td>\n",
              "      <td>0.000000</td>\n",
              "      <td>0.000000</td>\n",
              "      <td>0.000000</td>\n",
              "    </tr>\n",
              "    <tr>\n",
              "      <th>INT</th>\n",
              "      <td>0.000000</td>\n",
              "      <td>0.000000</td>\n",
              "      <td>0.000000</td>\n",
              "      <td>0.000000</td>\n",
              "      <td>0.000000</td>\n",
              "      <td>0.000000</td>\n",
              "      <td>0.000000</td>\n",
              "      <td>0.000000</td>\n",
              "      <td>0.000000</td>\n",
              "      <td>1.000000</td>\n",
              "      <td>0.000000</td>\n",
              "      <td>0.000000</td>\n",
              "      <td>0.000000</td>\n",
              "      <td>0.000000</td>\n",
              "      <td>0.000000</td>\n",
              "      <td>0.000000</td>\n",
              "      <td>0.000000</td>\n",
              "      <td>0.000000</td>\n",
              "      <td>0.000000</td>\n",
              "      <td>0.000000</td>\n",
              "      <td>0.000000</td>\n",
              "      <td>0.000000</td>\n",
              "      <td>0.000000</td>\n",
              "    </tr>\n",
              "  </tbody>\n",
              "</table>\n",
              "</div>"
            ],
            "text/plain": [
              "               PS        NP        PP  ...       DET        OH       INT\n",
              "PS       0.000000  0.000000  0.000000  ...  0.000000  0.030303  0.000000\n",
              "NP       0.000000  0.000000  0.000000  ...  0.000000  0.000000  0.000000\n",
              "PP       0.000000  0.000000  0.000000  ...  0.000000  0.000000  0.000000\n",
              "DEFAULT  0.000000  0.000000  0.000000  ...  0.030303  0.000000  0.000000\n",
              "CON      0.000087  0.000029  0.000378  ...  0.018829  0.000058  0.000000\n",
              "P        0.000000  0.000118  0.000059  ...  0.046065  0.000000  0.000000\n",
              "PRO      0.000000  0.000000  0.001716  ...  0.006252  0.000000  0.000000\n",
              "MS       0.000000  0.000000  0.000000  ...  0.000000  0.000000  0.000000\n",
              "V        0.000030  0.000000  0.000213  ...  0.003649  0.000061  0.000000\n",
              "DELM     0.000650  0.000000  0.000488  ...  0.027029  0.000232  0.000139\n",
              "AR       0.001104  0.000000  0.000000  ...  0.000000  0.000000  0.000000\n",
              "QUA      0.000000  0.000000  0.000000  ...  0.016488  0.000000  0.000000\n",
              "MQUA     0.000000  0.000000  0.000000  ...  0.000000  0.000000  0.000000\n",
              "MORP     0.000000  0.000000  0.000000  ...  0.000000  0.000000  0.000000\n",
              "IF       0.000000  0.000000  0.000000  ...  0.046512  0.000000  0.000000\n",
              "SPEC     0.000000  0.000000  0.000000  ...  0.001672  0.000000  0.000000\n",
              "ADV      0.000000  0.000000  0.000187  ...  0.019780  0.000187  0.000000\n",
              "ADJ      0.000000  0.000000  0.000221  ...  0.008033  0.000000  0.000000\n",
              "N        0.000000  0.000000  0.000195  ...  0.008261  0.000017  0.000000\n",
              "OHH      0.000000  0.000000  0.000000  ...  0.000000  0.000000  0.000000\n",
              "DET      0.000000  0.000000  0.001099  ...  0.000157  0.000000  0.000000\n",
              "OH       0.000000  0.000000  0.000000  ...  0.000000  0.000000  0.000000\n",
              "INT      0.000000  0.000000  0.000000  ...  0.000000  0.000000  0.000000\n",
              "\n",
              "[23 rows x 23 columns]"
            ]
          },
          "execution_count": 13,
          "metadata": {
            "tags": []
          },
          "output_type": "execute_result"
        }
      ],
      "source": [
        "# convert the matrix to a df for better readability\n",
        "tags_df = pd.DataFrame(tags_matrix, columns = list(T), index=list(T))\n",
        "tags_df"
      ]
    },
    {
      "cell_type": "code",
      "execution_count": null,
      "metadata": {
        "colab": {
          "base_uri": "https://localhost:8080/",
          "height": 472
        },
        "id": "4iCs4r9UAwvj",
        "outputId": "56ac04b4-3bc6-4638-a1e6-5508b143755d"
      },
      "outputs": [
        {
          "data": {
            "image/png": "[encoded data removed]",
            "text/plain": [
              "<Figure size 1296x864 with 2 Axes>"
            ]
          },
          "metadata": {
            "tags": []
          },
          "output_type": "display_data"
        }
      ],
      "source": [
        "# heatmap of tags matrix\n",
        "# T(i, j) indicates P(tag j given tag i)\n",
        "plt.figure(figsize=(18, 12))\n",
        "sns.heatmap(tags_df)\n",
        "plt.show()"
      ]
    },
    {
      "cell_type": "code",
      "execution_count": null,
      "metadata": {
        "colab": {
          "base_uri": "https://localhost:8080/",
          "height": 472
        },
        "id": "4uw2xTNcA-bD",
        "outputId": "89fcb244-e9df-4d5a-ae99-db04e6dc7e23"
      },
      "outputs": [
        {
          "data": {
            "image/png": "[encoded data removed]",
            "text/plain": [
              "<Figure size 1296x864 with 2 Axes>"
            ]
          },
          "metadata": {
            "tags": []
          },
          "output_type": "display_data"
        }
      ],
      "source": [
        "# frequent tags\n",
        "# filter the df to get P(t2, t1) > 0.5\n",
        "tags_frequent = tags_df[tags_df>0.5]\n",
        "plt.figure(figsize=(18, 12))\n",
        "sns.heatmap(tags_frequent)\n",
        "plt.show()"
      ]
    },
    {
      "cell_type": "code",
      "execution_count": null,
      "metadata": {
        "colab": {
          "base_uri": "https://localhost:8080/"
        },
        "id": "_1fkxFCrBJGY",
        "outputId": "9c7edce1-2353-4357-91be-b53f57cfe2fc"
      },
      "outputs": [
        {
          "data": {
            "text/plain": [
              "415684"
            ]
          },
          "execution_count": 16,
          "metadata": {
            "tags": []
          },
          "output_type": "execute_result"
        }
      ],
      "source": [
        "#Get total length of tagged words in training corpus\n",
        "len(train_tagged_words)"
      ]
    },
    {
      "cell_type": "code",
      "execution_count": null,
      "metadata": {
        "id": "TWfoVHbgBQwC"
      },
      "outputs": [],
      "source": [
        "# Viterbi Heuristic\n",
        "def Viterbi(words, train_bag = train_tagged_words):\n",
        "    state = []\n",
        "    T = list(set([pair[1] for pair in train_bag]))\n",
        "\n",
        "    for key, word in enumerate(words):\n",
        "        #initialise list of probability column for a given observation\n",
        "        p = []\n",
        "        for tag in T:\n",
        "            if key == 0:\n",
        "                transition_p = tags_df.loc['.', tag]\n",
        "            else:\n",
        "                transition_p = tags_df.loc[state[-1], tag]\n",
        "\n",
        "            # compute emission and state probabilities\n",
        "            emission_p = word_given_tag(words[key], tag)[0]/word_given_tag(words[key], tag)[1]\n",
        "            state_probability = emission_p * transition_p\n",
        "            p.append(state_probability)\n",
        "\n",
        "        pmax = max(p)\n",
        "        # getting state for which probability is maximum\n",
        "        state_max = T[p.index(pmax)]\n",
        "        state.append(state_max)\n",
        "    return list(zip(words, state))"
      ]
    },
    {
      "cell_type": "code",
      "execution_count": null,
      "metadata": {
        "colab": {
          "background_save": true
        },
        "id": "CvfyfRFxDbZf",
        "outputId": "d7b5e08a-9967-4082-e03f-1a6a92fa6783"
      },
      "outputs": [
        {
          "data": {
            "text/plain": [
              "<enumerate at 0x7f2fb08a0730>"
            ]
          },
          "execution_count": null,
          "metadata": {},
          "output_type": "execute_result"
        }
      ],
      "source": [
        "enumerate(['ahmad','ali',''])"
      ]
    }
  ],
  "metadata": {
    "accelerator": "GPU",
    "colab": {
      "provenance": []
    },
    "kernelspec": {
      "display_name": "Python 3",
      "name": "python3"
    },
    "language_info": {
      "name": "python"
    }
  },
  "nbformat": 4,
  "nbformat_minor": 0
}